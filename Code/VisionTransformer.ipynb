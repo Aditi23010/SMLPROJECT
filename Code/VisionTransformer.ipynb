{
 "cells": [
  {
   "cell_type": "code",
   "execution_count": 5,
   "metadata": {
    "id": "vNOmBacEwLxx"
   },
   "outputs": [],
   "source": [
    "import tarfile\n",
    "import torchvision.transforms as tt\n",
    "import torchvision\n",
    "from torch.utils.data import DataLoader\n",
    "import torchvision.transforms as T\n",
    "import matplotlib.pyplot as plt\n",
    "from torch.utils.data import random_split\n",
    "import torch.nn.functional as F\n",
    "from sklearn.metrics import f1_score,confusion_matrix\n",
    "import os\n",
    "import torch\n",
    "from PIL import Image\n",
    "import wandb\n",
    "from torchvision import transforms\n",
    "from tqdm import tqdm\n",
    "from torch.utils.data import Dataset\n",
    "from sklearn import preprocessing\n",
    "import torch.nn as nn\n",
    "import scipy.io\n",
    "import pandas as pd\n",
    "import numpy as np"
   ]
  },
  {
   "cell_type": "code",
   "execution_count": 6,
   "metadata": {},
   "outputs": [
    {
     "name": "stderr",
     "output_type": "stream",
     "text": [
      "\u001b[34m\u001b[1mwandb\u001b[0m: Currently logged in as: \u001b[33mtarang22081\u001b[0m (\u001b[33miiit-d\u001b[0m). Use \u001b[1m`wandb login --relogin`\u001b[0m to force relogin\n"
     ]
    },
    {
     "data": {
      "text/html": [
       "Tracking run with wandb version 0.16.6"
      ],
      "text/plain": [
       "<IPython.core.display.HTML object>"
      ]
     },
     "metadata": {},
     "output_type": "display_data"
    },
    {
     "data": {
      "text/html": [
       "Run data is saved locally in <code>C:\\Users\\taran\\Downloads\\SML\\Code\\wandb\\run-20240415_185133-b0uyg77m</code>"
      ],
      "text/plain": [
       "<IPython.core.display.HTML object>"
      ]
     },
     "metadata": {},
     "output_type": "display_data"
    },
    {
     "data": {
      "text/html": [
       "Syncing run <strong><a href='https://wandb.ai/iiit-d/SML/runs/b0uyg77m' target=\"_blank\">dazzling-moon-12</a></strong> to <a href='https://wandb.ai/iiit-d/SML' target=\"_blank\">Weights & Biases</a> (<a href='https://wandb.me/run' target=\"_blank\">docs</a>)<br/>"
      ],
      "text/plain": [
       "<IPython.core.display.HTML object>"
      ]
     },
     "metadata": {},
     "output_type": "display_data"
    },
    {
     "data": {
      "text/html": [
       " View project at <a href='https://wandb.ai/iiit-d/SML' target=\"_blank\">https://wandb.ai/iiit-d/SML</a>"
      ],
      "text/plain": [
       "<IPython.core.display.HTML object>"
      ]
     },
     "metadata": {},
     "output_type": "display_data"
    },
    {
     "data": {
      "text/html": [
       " View run at <a href='https://wandb.ai/iiit-d/SML/runs/b0uyg77m' target=\"_blank\">https://wandb.ai/iiit-d/SML/runs/b0uyg77m</a>"
      ],
      "text/plain": [
       "<IPython.core.display.HTML object>"
      ]
     },
     "metadata": {},
     "output_type": "display_data"
    },
    {
     "data": {
      "text/html": [
       "<button onClick=\"this.nextSibling.style.display='block';this.style.display='none';\">Display W&B run</button><iframe src='https://wandb.ai/iiit-d/SML/runs/b0uyg77m?jupyter=true' style='border:none;width:100%;height:420px;display:none;'></iframe>"
      ],
      "text/plain": [
       "<wandb.sdk.wandb_run.Run at 0x1b9b0b1fbe0>"
      ]
     },
     "execution_count": 6,
     "metadata": {},
     "output_type": "execute_result"
    }
   ],
   "source": [
    "wandb.login()\n",
    "wandb.init(project=\"SML\", entity=\"iiit-d\")"
   ]
  },
  {
   "cell_type": "code",
   "execution_count": 7,
   "metadata": {},
   "outputs": [
    {
     "name": "stdout",
     "output_type": "stream",
     "text": [
      "Loaded pretrained weights.\n"
     ]
    }
   ],
   "source": [
    "from pytorch_pretrained_vit import ViT\n",
    "\n",
    "# Define the ViT model architecture\n",
    "model = ViT('B_16', num_classes=1000, pretrained=True)\n",
    "\n",
    "# Modify the last layer to output 397 classes\n",
    "model.fc = nn.Linear(model.fc.in_features, 200)"
   ]
  },
  {
   "cell_type": "code",
   "execution_count": 8,
   "metadata": {},
   "outputs": [],
   "source": [
    "class CustomDataset(Dataset):\n",
    "    def __init__(self, root_dir, transform=None):\n",
    "        self.root_dir = root_dir\n",
    "        self.transform = transform\n",
    "        self.classes = sorted(os.listdir(root_dir))\n",
    "        self.class_to_idx = {cls_name[:3]: idx for idx, cls_name in enumerate(self.classes)}\n",
    "        self.images = self._get_images()\n",
    "\n",
    "    def _get_images(self):\n",
    "        images = []\n",
    "        # print(self.class_to_idx)\n",
    "        for class_folder in self.classes:\n",
    "            class_path = os.path.join(self.root_dir, class_folder)\n",
    "            class_idx = self.class_to_idx[class_folder[:3]]\n",
    "            for img_name in os.listdir(class_path):\n",
    "                img_path = os.path.join(class_path, img_name)\n",
    "                images.append((img_path, class_idx))\n",
    "        return images\n",
    "\n",
    "    def __len__(self):\n",
    "        return len(self.images)\n",
    "\n",
    "    def __getitem__(self, idx):\n",
    "        img_path, class_idx = self.images[idx]\n",
    "        image = Image.open(img_path)\n",
    "        if self.transform:\n",
    "            image = self.transform(image)\n",
    "        return image, class_idx\n",
    "\n",
    "# Example usage\n",
    "root_dir = 'C:\\\\Users\\\\taran\\\\Downloads\\\\SML\\\\CUB-200-2011-dataset-main\\\\CUB-200-2011-dataset-main\\\\train'\n",
    "test_dir = 'C:\\\\Users\\\\taran\\\\Downloads\\\\SML\\\\CUB-200-2011-dataset-main\\\\CUB-200-2011-dataset-main\\\\test'\n",
    "train_dir = 'C:\\\\Users\\\\taran\\\\Downloads\\\\SML\\\\CUB-200-2011-dataset-main\\\\CUB-200-2011-dataset-main\\\\new_train'\n",
    "val_dir = 'C:\\\\Users\\\\taran\\\\Downloads\\\\SML\\\\CUB-200-2011-dataset-main\\\\CUB-200-2011-dataset-main\\\\new_val'\n",
    "trans = tt.Compose([\n",
    "    tt.ToTensor(),tt.Resize((224,224)),tt.Normalize((0.485,0.456,0.406),(0.229,0.224,0.225))   \n",
    "])\n",
    "\n",
    "trans_aug = tt.Compose([\n",
    "   tt.ToTensor(), tt.Resize((224,224)),\n",
    "   tt.RandomGrayscale(), tt.RandomHorizontalFlip(),\n",
    "   tt.RandomRotation(degrees=20), tt.Normalize((0.485,0.456,0.406),(0.229,0.224,0.225))\n",
    "])\n"
   ]
  },
  {
   "cell_type": "code",
   "execution_count": 9,
   "metadata": {},
   "outputs": [],
   "source": [
    "# train_dataset = CustomDataset(root_dir, transform=trans)\n",
    "train_ds = CustomDataset(train_dir, transform=trans_aug)\n",
    "val_ds = CustomDataset(val_dir, transform=trans)\n",
    "test_ds = CustomDataset(test_dir, transform=trans)"
   ]
  },
  {
   "cell_type": "code",
   "execution_count": 10,
   "metadata": {
    "id": "Jc5O5rMdcniz"
   },
   "outputs": [],
   "source": [
    "batch = 4"
   ]
  },
  {
   "cell_type": "code",
   "execution_count": 11,
   "metadata": {},
   "outputs": [],
   "source": [
    "train_dl = DataLoader(train_ds,batch, shuffle=True)\n",
    "val_dl = DataLoader(val_ds,batch, shuffle=True)\n",
    "test_dl = DataLoader(test_ds,batch, shuffle=True)"
   ]
  },
  {
   "cell_type": "code",
   "execution_count": 12,
   "metadata": {
    "id": "yMzGgk8nWn5m"
   },
   "outputs": [
    {
     "name": "stderr",
     "output_type": "stream",
     "text": [
      "Clipping input data to the valid range for imshow with RGB data ([0..1] for floats or [0..255] for integers).\n"
     ]
    },
    {
     "data": {
      "image/png": "[encoded data removed]",
      "text/plain": [
       "<Figure size 800x800 with 1 Axes>"
      ]
     },
     "metadata": {},
     "output_type": "display_data"
    }
   ],
   "source": [
    "from torchvision.utils import make_grid\n",
    "def show_images(images, nmax=64):\n",
    "    fig, ax = plt.subplots(figsize=(8, 8))\n",
    "    ax.set_xticks([]); ax.set_yticks([])\n",
    "    ax.imshow(make_grid(images.detach()[:nmax], nrow=8).permute(1, 2, 0))\n",
    "    \n",
    "\n",
    "def show_batch(dl, nmax=64):\n",
    "    for images, label in dl:\n",
    "        show_images(images, nmax)\n",
    "        break\n",
    "show_batch(train_dl,64)"
   ]
  },
  {
   "cell_type": "code",
   "execution_count": 13,
   "metadata": {
    "id": "D1GMCJhG3ewr"
   },
   "outputs": [],
   "source": [
    "def get_default_device():\n",
    "    if torch.cuda.is_available():\n",
    "        return torch.device('cuda')\n",
    "    else:\n",
    "        return torch.device('cpu')\n",
    "    \n",
    "def to_device(data, device):\n",
    "    if isinstance(data, (list,tuple)):\n",
    "        return [to_device(x, device) for x in data]\n",
    "    return data.to(device, non_blocking=True)\n",
    "\n",
    "class DeviceDataLoader():\n",
    "    def __init__(self, dl, device):\n",
    "        self.dl = dl\n",
    "        self.device = device\n",
    "        \n",
    "    def __iter__(self):\n",
    "        for b in self.dl: \n",
    "            yield to_device(b, self.device)\n",
    "\n",
    "    def __len__(self):\n",
    "        return len(self.dl)\n",
    "train_dl = DeviceDataLoader(train_dl,'cuda')\n",
    "val_dl = DeviceDataLoader(val_dl,'cuda')"
   ]
  },
  {
   "cell_type": "code",
   "execution_count": 14,
   "metadata": {
    "id": "rd83pxet8O-8"
   },
   "outputs": [],
   "source": [
    "def accuracy(outputs, labels):\n",
    "    _, preds = torch.max(outputs, dim=1)\n",
    "    return torch.tensor(torch.sum(preds == (labels)).item() / len(preds))\n",
    "\n",
    "\n",
    "class Model(nn.Module):\n",
    "  def __init__(self ):\n",
    "    super().__init__()\n",
    "    self.network =model\n",
    "\n",
    "  def forward(self, x):\n",
    "    return self.network(x)\n",
    "  \n",
    "  def train_step(self,batch):\n",
    "      img , label = batch\n",
    "      pred = self(img)\n",
    "      loss = F.cross_entropy(pred,label)\n",
    "      return loss\n",
    "  \n",
    "  def valid_step(self,batch):\n",
    "      img , label = batch\n",
    "      pred = self(img)\n",
    "      loss = F.cross_entropy(pred, label)  \n",
    "      acc = accuracy(pred, label)\n",
    "      return {'acc':acc , 'loss':loss.item()}\n",
    "\n",
    "  def valid_metric_cals(self,output):\n",
    "    loss = [i['loss'] for i in output]\n",
    "    acc = [i['acc'] for i in output]\n",
    "    valid_loss = np.mean(loss)\n",
    "    valid_acc = np.mean(acc)\n",
    "    return {'val_loss':valid_loss,'valid_acc':valid_acc}\n",
    "  \n",
    "  def epoch_end(self, epoch_no , result):\n",
    "    wandb.log({ 'epoch' : epoch_no+1, 'training loss': result[\"train_loss\"], 'validation loss': result[\"val_loss\"], 'accuracy': result[\"valid_acc\"]})\n",
    "    print(f'epoch :{epoch_no+1}, training loss: {result[\"train_loss\"]}, validation loss: {result[\"val_loss\"]}, accuracy: {result[\"valid_acc\"]}')"
   ]
  },
  {
   "cell_type": "code",
   "execution_count": 15,
   "metadata": {
    "id": "QK2Rv0wG8RZO"
   },
   "outputs": [],
   "source": [
    "@torch.no_grad()\n",
    "def evalu(model, val_dl):\n",
    "  model.eval()\n",
    "  temp = [ model.valid_step(j) for j in val_dl ]\n",
    "  return model.valid_metric_cals(temp)\n",
    "\n",
    "def fit(train_dl,val_dl,model,lr,optim,epochs,momentum):\n",
    "  history = []\n",
    "  optimizer =  optim(model.parameters(),lr=lr,momentum=0.9)\n",
    "  count = 0\n",
    "  for epoch in tqdm(range(epochs)):\n",
    "    train_loss = []\n",
    "    model.train()\n",
    "    for batch in train_dl:\n",
    "      optimizer.zero_grad()\n",
    "      loss = model.train_step(batch)\n",
    "      loss.backward()\n",
    "      \n",
    "      train_loss.append(loss.item())\n",
    "      optimizer.step()\n",
    "      # print(count)\n",
    "      count+=1\n",
    "    result = evalu(model,val_dl)\n",
    "    result['train_loss'] = np.mean(train_loss)\n",
    "    history.append(result)\n",
    "    model.epoch_end(epoch,result)\n",
    "  return history\n",
    "\n",
    "    "
   ]
  },
  {
   "cell_type": "code",
   "execution_count": 16,
   "metadata": {
    "id": "6rMcRGX98UgQ"
   },
   "outputs": [],
   "source": [
    "model = Model()\n",
    "model = to_device(model,'cuda')\n",
    "lr = 0.001\n",
    "momentum =.9\n",
    "optimizer= torch.optim.SGD\n",
    "epochs=30\n",
    "wandb.config = {'lr':lr,'optimuzer':'SGD','epochs':epochs,'batch_size':batch}"
   ]
  },
  {
   "cell_type": "code",
   "execution_count": 17,
   "metadata": {
    "id": "aPIut7FR8XXY"
   },
   "outputs": [
    {
     "name": "stderr",
     "output_type": "stream",
     "text": [
      "  3%|██▋                                                                             | 1/30 [12:27<6:01:26, 747.81s/it]"
     ]
    },
    {
     "name": "stdout",
     "output_type": "stream",
     "text": [
      "epoch :1, training loss: 4.958945323667296, validation loss: 4.323174815177918, accuracy: 0.5833333134651184\n"
     ]
    },
    {
     "name": "stderr",
     "output_type": "stream",
     "text": [
      "  7%|█████▎                                                                          | 2/30 [28:38<6:50:13, 879.05s/it]"
     ]
    },
    {
     "name": "stdout",
     "output_type": "stream",
     "text": [
      "epoch :2, training loss: 3.4672250359927346, validation loss: 2.151924601395925, accuracy: 0.684166669845581\n"
     ]
    },
    {
     "name": "stderr",
     "output_type": "stream",
     "text": [
      " 10%|████████                                                                        | 3/30 [44:48<6:54:17, 920.66s/it]"
     ]
    },
    {
     "name": "stdout",
     "output_type": "stream",
     "text": [
      "epoch :3, training loss: 1.7147630132467573, validation loss: 1.118339350769917, accuracy: 0.7391666769981384\n"
     ]
    },
    {
     "name": "stderr",
     "output_type": "stream",
     "text": [
      " 13%|██████████▍                                                                   | 4/30 [1:01:05<6:48:28, 942.62s/it]"
     ]
    },
    {
     "name": "stdout",
     "output_type": "stream",
     "text": [
      "epoch :4, training loss: 1.0859340026017723, validation loss: 0.9287525684386492, accuracy: 0.7358333468437195\n"
     ]
    },
    {
     "name": "stderr",
     "output_type": "stream",
     "text": [
      " 17%|█████████████                                                                 | 5/30 [1:17:34<6:39:50, 959.62s/it]"
     ]
    },
    {
     "name": "stdout",
     "output_type": "stream",
     "text": [
      "epoch :5, training loss: 0.8769578418171684, validation loss: 0.7911058272669713, accuracy: 0.7875000238418579\n"
     ]
    },
    {
     "name": "stderr",
     "output_type": "stream",
     "text": [
      " 20%|███████████████▌                                                              | 6/30 [1:34:07<6:28:19, 970.83s/it]"
     ]
    },
    {
     "name": "stdout",
     "output_type": "stream",
     "text": [
      "epoch :6, training loss: 0.7482554206595111, validation loss: 0.7918599275189141, accuracy: 0.7766666412353516\n"
     ]
    },
    {
     "name": "stderr",
     "output_type": "stream",
     "text": [
      " 23%|██████████████████▏                                                           | 7/30 [1:50:16<6:11:57, 970.33s/it]"
     ]
    },
    {
     "name": "stdout",
     "output_type": "stream",
     "text": [
      "epoch :7, training loss: 0.5916094958667237, validation loss: 0.677817791790391, accuracy: 0.8016666769981384\n"
     ]
    },
    {
     "name": "stderr",
     "output_type": "stream",
     "text": [
      " 27%|████████████████████▊                                                         | 8/30 [2:06:26<5:55:40, 970.03s/it]"
     ]
    },
    {
     "name": "stdout",
     "output_type": "stream",
     "text": [
      "epoch :8, training loss: 0.523441937411075, validation loss: 0.6315069477291156, accuracy: 0.8208333253860474\n"
     ]
    },
    {
     "name": "stderr",
     "output_type": "stream",
     "text": [
      " 30%|███████████████████████▍                                                      | 9/30 [2:22:33<5:39:13, 969.23s/it]"
     ]
    },
    {
     "name": "stdout",
     "output_type": "stream",
     "text": [
      "epoch :9, training loss: 0.4526326557849724, validation loss: 0.6697059314046055, accuracy: 0.8208333253860474\n"
     ]
    },
    {
     "name": "stderr",
     "output_type": "stream",
     "text": [
      " 33%|█████████████████████████▋                                                   | 10/30 [2:38:36<5:22:23, 967.19s/it]"
     ]
    },
    {
     "name": "stdout",
     "output_type": "stream",
     "text": [
      "epoch :10, training loss: 0.3934673032124493, validation loss: 0.6262805450924983, accuracy: 0.8166666626930237\n"
     ]
    },
    {
     "name": "stderr",
     "output_type": "stream",
     "text": [
      " 37%|████████████████████████████▏                                                | 11/30 [2:54:36<5:05:36, 965.06s/it]"
     ]
    },
    {
     "name": "stdout",
     "output_type": "stream",
     "text": [
      "epoch :11, training loss: 0.32918539711097883, validation loss: 0.639187185857445, accuracy: 0.815833330154419\n"
     ]
    },
    {
     "name": "stderr",
     "output_type": "stream",
     "text": [
      " 40%|██████████████████████████████▊                                              | 12/30 [3:10:22<4:47:44, 959.13s/it]"
     ]
    },
    {
     "name": "stdout",
     "output_type": "stream",
     "text": [
      "epoch :12, training loss: 0.28621040600615305, validation loss: 0.6560972065618261, accuracy: 0.8199999928474426\n"
     ]
    },
    {
     "name": "stderr",
     "output_type": "stream",
     "text": [
      " 43%|█████████████████████████████████▎                                           | 13/30 [3:25:30<4:27:22, 943.69s/it]"
     ]
    },
    {
     "name": "stdout",
     "output_type": "stream",
     "text": [
      "epoch :13, training loss: 0.2315008323841586, validation loss: 0.6764567193606248, accuracy: 0.8083333373069763\n"
     ]
    },
    {
     "name": "stderr",
     "output_type": "stream",
     "text": [
      " 47%|███████████████████████████████████▉                                         | 14/30 [3:37:12<3:52:12, 870.79s/it]"
     ]
    },
    {
     "name": "stdout",
     "output_type": "stream",
     "text": [
      "epoch :14, training loss: 0.280662149665885, validation loss: 0.6700603613692026, accuracy: 0.815833330154419\n"
     ]
    },
    {
     "name": "stderr",
     "output_type": "stream",
     "text": [
      " 50%|██████████████████████████████████████▌                                      | 15/30 [3:44:19<3:04:13, 736.89s/it]"
     ]
    },
    {
     "name": "stdout",
     "output_type": "stream",
     "text": [
      "epoch :15, training loss: 0.21192110535530242, validation loss: 0.7030039109677697, accuracy: 0.8174999952316284\n"
     ]
    },
    {
     "name": "stderr",
     "output_type": "stream",
     "text": [
      " 53%|█████████████████████████████████████████                                    | 16/30 [3:51:40<2:31:10, 647.89s/it]"
     ]
    },
    {
     "name": "stdout",
     "output_type": "stream",
     "text": [
      "epoch :16, training loss: 0.1877212170422158, validation loss: 0.6829327356815338, accuracy: 0.815833330154419\n"
     ]
    },
    {
     "name": "stderr",
     "output_type": "stream",
     "text": [
      " 57%|███████████████████████████████████████████▋                                 | 17/30 [3:59:07<2:07:16, 587.41s/it]"
     ]
    },
    {
     "name": "stdout",
     "output_type": "stream",
     "text": [
      "epoch :17, training loss: 0.20401801110487633, validation loss: 0.6916305062128231, accuracy: 0.8208333253860474\n"
     ]
    },
    {
     "name": "stderr",
     "output_type": "stream",
     "text": [
      " 60%|██████████████████████████████████████████████▏                              | 18/30 [4:06:35<1:49:09, 545.76s/it]"
     ]
    },
    {
     "name": "stdout",
     "output_type": "stream",
     "text": [
      "epoch :18, training loss: 0.14738040374381448, validation loss: 0.7022298014955595, accuracy: 0.8125\n"
     ]
    },
    {
     "name": "stderr",
     "output_type": "stream",
     "text": [
      " 63%|████████████████████████████████████████████████▊                            | 19/30 [4:14:05<1:34:44, 516.74s/it]"
     ]
    },
    {
     "name": "stdout",
     "output_type": "stream",
     "text": [
      "epoch :19, training loss: 0.14982632593629652, validation loss: 0.8260820520063862, accuracy: 0.7858333587646484\n"
     ]
    },
    {
     "name": "stderr",
     "output_type": "stream",
     "text": [
      " 67%|███████████████████████████████████████████████████▎                         | 20/30 [4:21:34<1:22:44, 496.47s/it]"
     ]
    },
    {
     "name": "stdout",
     "output_type": "stream",
     "text": [
      "epoch :20, training loss: 0.1449049265778121, validation loss: 0.7053178823793618, accuracy: 0.8241666555404663\n"
     ]
    },
    {
     "name": "stderr",
     "output_type": "stream",
     "text": [
      " 70%|█████████████████████████████████████████████████████▉                       | 21/30 [4:29:04<1:12:22, 482.47s/it]"
     ]
    },
    {
     "name": "stdout",
     "output_type": "stream",
     "text": [
      "epoch :21, training loss: 0.13165212267026416, validation loss: 0.7016048243090821, accuracy: 0.8308333158493042\n"
     ]
    },
    {
     "name": "stderr",
     "output_type": "stream",
     "text": [
      " 73%|████████████████████████████████████████████████████████▍                    | 22/30 [4:36:36<1:03:06, 473.28s/it]"
     ]
    },
    {
     "name": "stdout",
     "output_type": "stream",
     "text": [
      "epoch :22, training loss: 0.13018070896963174, validation loss: 0.718346145292744, accuracy: 0.824999988079071\n"
     ]
    },
    {
     "name": "stderr",
     "output_type": "stream",
     "text": [
      " 77%|████████████████████████████████████████████████████████████▌                  | 23/30 [4:44:06<54:25, 466.53s/it]"
     ]
    },
    {
     "name": "stdout",
     "output_type": "stream",
     "text": [
      "epoch :23, training loss: 0.12628687259026905, validation loss: 0.7998536385068049, accuracy: 0.8100000023841858\n"
     ]
    },
    {
     "name": "stderr",
     "output_type": "stream",
     "text": [
      " 80%|███████████████████████████████████████████████████████████████▏               | 24/30 [4:51:36<46:08, 461.42s/it]"
     ]
    },
    {
     "name": "stdout",
     "output_type": "stream",
     "text": [
      "epoch :24, training loss: 0.10708970392745817, validation loss: 0.7280928381718695, accuracy: 0.8191666603088379\n"
     ]
    },
    {
     "name": "stderr",
     "output_type": "stream",
     "text": [
      " 83%|█████████████████████████████████████████████████████████████████▊             | 25/30 [4:59:05<38:09, 457.88s/it]"
     ]
    },
    {
     "name": "stdout",
     "output_type": "stream",
     "text": [
      "epoch :25, training loss: 0.13151235375502882, validation loss: 0.7863165716896765, accuracy: 0.800000011920929\n"
     ]
    },
    {
     "name": "stderr",
     "output_type": "stream",
     "text": [
      " 87%|████████████████████████████████████████████████████████████████████▍          | 26/30 [5:06:33<30:19, 454.91s/it]"
     ]
    },
    {
     "name": "stdout",
     "output_type": "stream",
     "text": [
      "epoch :26, training loss: 0.12011512358703211, validation loss: 0.7492045695305569, accuracy: 0.8108333349227905\n"
     ]
    },
    {
     "name": "stderr",
     "output_type": "stream",
     "text": [
      " 90%|███████████████████████████████████████████████████████████████████████        | 27/30 [5:14:03<22:39, 453.30s/it]"
     ]
    },
    {
     "name": "stdout",
     "output_type": "stream",
     "text": [
      "epoch :27, training loss: 0.10426023323137432, validation loss: 0.729090243234532, accuracy: 0.8141666650772095\n"
     ]
    },
    {
     "name": "stderr",
     "output_type": "stream",
     "text": [
      " 93%|█████████████████████████████████████████████████████████████████████████▋     | 28/30 [5:21:33<15:04, 452.19s/it]"
     ]
    },
    {
     "name": "stdout",
     "output_type": "stream",
     "text": [
      "epoch :28, training loss: 0.09547159624219195, validation loss: 0.7181126836584493, accuracy: 0.8241666555404663\n"
     ]
    },
    {
     "name": "stderr",
     "output_type": "stream",
     "text": [
      " 97%|████████████████████████████████████████████████████████████████████████████▎  | 29/30 [5:29:01<07:31, 451.20s/it]"
     ]
    },
    {
     "name": "stdout",
     "output_type": "stream",
     "text": [
      "epoch :29, training loss: 0.10905257496556378, validation loss: 0.7793840765013981, accuracy: 0.809166669845581\n"
     ]
    },
    {
     "name": "stderr",
     "output_type": "stream",
     "text": [
      "100%|███████████████████████████████████████████████████████████████████████████████| 30/30 [5:36:31<00:00, 673.04s/it]"
     ]
    },
    {
     "name": "stdout",
     "output_type": "stream",
     "text": [
      "epoch :30, training loss: 0.10533229004353047, validation loss: 0.8291873789175103, accuracy: 0.7891666889190674\n"
     ]
    },
    {
     "name": "stderr",
     "output_type": "stream",
     "text": [
      "\n"
     ]
    }
   ],
   "source": [
    "# wandb.watch(model)\n",
    "history=fit(train_dl,val_dl,model,lr,optimizer,epochs,momentum)"
   ]
  },
  {
   "cell_type": "code",
   "execution_count": 18,
   "metadata": {
    "id": "3yoCgtJW1UD0"
   },
   "outputs": [],
   "source": [
    "torch.save(model.state_dict(),\"VisionTransformer.pth\")"
   ]
  },
  {
   "cell_type": "code",
   "execution_count": 19,
   "metadata": {
    "id": "zbX2E6fJ8csK"
   },
   "outputs": [
    {
     "name": "stdout",
     "output_type": "stream",
     "text": [
      "('f1 Score: 0.8034486107944212', 'Accuracy: 0.8061788056610286', 'precision Score: 0.8175920791409133', 'recall Score: 0.8068566241967963')\n"
     ]
    }
   ],
   "source": [
    "from sklearn.metrics import f1_score,accuracy_score,recall_score,precision_score\n",
    "\n",
    "test_dl = DeviceDataLoader(test_dl,'cuda')\n",
    "@torch.no_grad()\n",
    "def test_accuracy_f1(test_dl):\n",
    "  model.eval()\n",
    "  acc=0\n",
    "  f1=0\n",
    "  list_label = []\n",
    "  list_pred = []\n",
    "  \n",
    "\n",
    "  for num,(img,label) in enumerate(test_dl):\n",
    "    outputs = model(img)\n",
    "    batchs_report = []\n",
    "    _, pred = torch.max(outputs, dim=1)\n",
    "    predx,labelx = (pred.cpu().clone().tolist(),label.cpu().clone().tolist())\n",
    "    \n",
    "    list_label+=labelx\n",
    "    list_pred+=predx\n",
    "  f1 =f1_score(list_label,list_pred,average='macro')\n",
    "  precision =precision_score(list_label,list_pred,average='macro')\n",
    "  recall =recall_score(list_label,list_pred,average='macro')\n",
    "\n",
    "  acc =accuracy_score(list_label,list_pred)\n",
    "  wandb.log({\"conf_mat\" : wandb.plot.confusion_matrix(probs=None,\n",
    "                       y_true=list_label, preds=list_pred,\n",
    "                     )})\n",
    "  wandb.log({'f1_score':f1,'accuracy_score':acc,'precision Score':precision,'recall Score':recall})\n",
    "  return f'f1 Score: {f1}', f'Accuracy: {acc}',f'precision Score: {precision}',f'recall Score: {recall}'\n",
    "score_rate = test_accuracy_f1(test_dl)\n",
    "print(score_rate)\n",
    "\n"
   ]
  },
  {
   "cell_type": "code",
   "execution_count": 20,
   "metadata": {
    "id": "mgb5OAS-8faX"
   },
   "outputs": [
    {
     "data": {
      "text/html": [
       "<style>\n",
       "    table.wandb td:nth-child(1) { padding: 0 10px; text-align: left ; width: auto;} td:nth-child(2) {text-align: left ; width: 100%}\n",
       "    .wandb-row { display: flex; flex-direction: row; flex-wrap: wrap; justify-content: flex-start; width: 100% }\n",
       "    .wandb-col { display: flex; flex-direction: column; flex-basis: 100%; flex: 1; padding: 10px; }\n",
       "    </style>\n",
       "<div class=\"wandb-row\"><div class=\"wandb-col\"><h3>Run history:</h3><br/><table class=\"wandb\"><tr><td>accuracy</td><td>▁▄▅▅▇▆▇█████▇████▇▇███▇█▇▇██▇▇</td></tr><tr><td>accuracy_score</td><td>▁</td></tr><tr><td>epoch</td><td>▁▁▁▂▂▂▂▃▃▃▃▄▄▄▄▅▅▅▅▆▆▆▆▇▇▇▇███</td></tr><tr><td>f1_score</td><td>▁</td></tr><tr><td>precision Score</td><td>▁</td></tr><tr><td>recall Score</td><td>▁</td></tr><tr><td>training loss</td><td>█▆▃▂▂▂▂▂▂▁▁▁▁▁▁▁▁▁▁▁▁▁▁▁▁▁▁▁▁▁</td></tr><tr><td>validation loss</td><td>█▄▂▂▁▁▁▁▁▁▁▁▁▁▁▁▁▁▁▁▁▁▁▁▁▁▁▁▁▁</td></tr></table><br/></div><div class=\"wandb-col\"><h3>Run summary:</h3><br/><table class=\"wandb\"><tr><td>accuracy</td><td>0.78917</td></tr><tr><td>accuracy_score</td><td>0.80618</td></tr><tr><td>epoch</td><td>30</td></tr><tr><td>f1_score</td><td>0.80345</td></tr><tr><td>precision Score</td><td>0.81759</td></tr><tr><td>recall Score</td><td>0.80686</td></tr><tr><td>training loss</td><td>0.10533</td></tr><tr><td>validation loss</td><td>0.82919</td></tr></table><br/></div></div>"
      ],
      "text/plain": [
       "<IPython.core.display.HTML object>"
      ]
     },
     "metadata": {},
     "output_type": "display_data"
    },
    {
     "data": {
      "text/html": [
       " View run <strong style=\"color:#cdcd00\">dazzling-moon-12</strong> at: <a href='https://wandb.ai/iiit-d/SML/runs/b0uyg77m' target=\"_blank\">https://wandb.ai/iiit-d/SML/runs/b0uyg77m</a><br/> View project at: <a href='https://wandb.ai/iiit-d/SML' target=\"_blank\">https://wandb.ai/iiit-d/SML</a><br/>Synced 6 W&B file(s), 1 media file(s), 1 artifact file(s) and 0 other file(s)"
      ],
      "text/plain": [
       "<IPython.core.display.HTML object>"
      ]
     },
     "metadata": {},
     "output_type": "display_data"
    },
    {
     "data": {
      "text/html": [
       "Find logs at: <code>.\\wandb\\run-20240415_185133-b0uyg77m\\logs</code>"
      ],
      "text/plain": [
       "<IPython.core.display.HTML object>"
      ]
     },
     "metadata": {},
     "output_type": "display_data"
    }
   ],
   "source": [
    "wandb.finish()"
   ]
  },
  {
   "cell_type": "code",
   "execution_count": null,
   "metadata": {},
   "outputs": [],
   "source": []
  }
 ],
 "metadata": {
  "accelerator": "GPU",
  "colab": {
   "provenance": []
  },
  "gpuClass": "standard",
  "kernelspec": {
   "display_name": "Python 3 (ipykernel)",
   "language": "python",
   "name": "python3"
  },
  "language_info": {
   "codemirror_mode": {
    "name": "ipython",
    "version": 3
   },
   "file_extension": ".py",
   "mimetype": "text/x-python",
   "name": "python",
   "nbconvert_exporter": "python",
   "pygments_lexer": "ipython3",
   "version": "3.10.14"
  }
 },
 "nbformat": 4,
 "nbformat_minor": 4
}
