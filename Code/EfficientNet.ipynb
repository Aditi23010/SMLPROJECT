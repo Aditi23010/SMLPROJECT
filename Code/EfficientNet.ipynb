{
 "cells": [
  {
   "cell_type": "code",
   "execution_count": 1,
   "metadata": {
    "id": "vNOmBacEwLxx"
   },
   "outputs": [
    {
     "name": "stderr",
     "output_type": "stream",
     "text": [
      "C:\\Users\\taran\\anaconda3\\envs\\nlp\\lib\\site-packages\\tqdm\\auto.py:21: TqdmWarning: IProgress not found. Please update jupyter and ipywidgets. See https://ipywidgets.readthedocs.io/en/stable/user_install.html\n",
      "  from .autonotebook import tqdm as notebook_tqdm\n"
     ]
    }
   ],
   "source": [
    "import tarfile\n",
    "import torchvision.transforms as tt\n",
    "import torchvision\n",
    "from torch.utils.data import DataLoader\n",
    "import torchvision.transforms as T\n",
    "import matplotlib.pyplot as plt\n",
    "from torch.utils.data import random_split\n",
    "import torch.nn.functional as F\n",
    "from sklearn.metrics import f1_score,confusion_matrix\n",
    "import os\n",
    "import torch\n",
    "from PIL import Image\n",
    "import wandb\n",
    "from torchvision import transforms\n",
    "from tqdm import tqdm\n",
    "from torch.utils.data import Dataset\n",
    "from sklearn import preprocessing\n",
    "import torch.nn as nn\n",
    "import scipy.io\n",
    "import pandas as pd\n",
    "import numpy as np"
   ]
  },
  {
   "cell_type": "code",
   "execution_count": 2,
   "metadata": {},
   "outputs": [
    {
     "name": "stderr",
     "output_type": "stream",
     "text": [
      "\u001b[34m\u001b[1mwandb\u001b[0m: Currently logged in as: \u001b[33mtarang22081\u001b[0m (\u001b[33miiit-d\u001b[0m). Use \u001b[1m`wandb login --relogin`\u001b[0m to force relogin\n"
     ]
    },
    {
     "data": {
      "text/html": [
       "Tracking run with wandb version 0.16.6"
      ],
      "text/plain": [
       "<IPython.core.display.HTML object>"
      ]
     },
     "metadata": {},
     "output_type": "display_data"
    },
    {
     "data": {
      "text/html": [
       "Run data is saved locally in <code>C:\\Users\\taran\\Downloads\\SML\\Code\\wandb\\run-20240415_152424-asanktrk</code>"
      ],
      "text/plain": [
       "<IPython.core.display.HTML object>"
      ]
     },
     "metadata": {},
     "output_type": "display_data"
    },
    {
     "data": {
      "text/html": [
       "Syncing run <strong><a href='https://wandb.ai/iiit-d/SML/runs/asanktrk' target=\"_blank\">clear-flower-11</a></strong> to <a href='https://wandb.ai/iiit-d/SML' target=\"_blank\">Weights & Biases</a> (<a href='https://wandb.me/run' target=\"_blank\">docs</a>)<br/>"
      ],
      "text/plain": [
       "<IPython.core.display.HTML object>"
      ]
     },
     "metadata": {},
     "output_type": "display_data"
    },
    {
     "data": {
      "text/html": [
       " View project at <a href='https://wandb.ai/iiit-d/SML' target=\"_blank\">https://wandb.ai/iiit-d/SML</a>"
      ],
      "text/plain": [
       "<IPython.core.display.HTML object>"
      ]
     },
     "metadata": {},
     "output_type": "display_data"
    },
    {
     "data": {
      "text/html": [
       " View run at <a href='https://wandb.ai/iiit-d/SML/runs/asanktrk' target=\"_blank\">https://wandb.ai/iiit-d/SML/runs/asanktrk</a>"
      ],
      "text/plain": [
       "<IPython.core.display.HTML object>"
      ]
     },
     "metadata": {},
     "output_type": "display_data"
    },
    {
     "data": {
      "text/html": [
       "<button onClick=\"this.nextSibling.style.display='block';this.style.display='none';\">Display W&B run</button><iframe src='https://wandb.ai/iiit-d/SML/runs/asanktrk?jupyter=true' style='border:none;width:100%;height:420px;display:none;'></iframe>"
      ],
      "text/plain": [
       "<wandb.sdk.wandb_run.Run at 0x1eaafdedb70>"
      ]
     },
     "execution_count": 2,
     "metadata": {},
     "output_type": "execute_result"
    }
   ],
   "source": [
    "wandb.login()\n",
    "wandb.init(project=\"SML\", entity=\"iiit-d\")"
   ]
  },
  {
   "cell_type": "code",
   "execution_count": 3,
   "metadata": {},
   "outputs": [
    {
     "name": "stdout",
     "output_type": "stream",
     "text": [
      "Loaded pretrained weights for efficientnet-b4\n"
     ]
    }
   ],
   "source": [
    "from efficientnet_pytorch import EfficientNet\n",
    "\n",
    "# Define the efficientNet model architecture\n",
    "model = EfficientNet.from_pretrained('efficientnet-b4')\n",
    "# model\n",
    "\n",
    "# Modify the last layer to output 397 classes\n",
    "model._fc = nn.Linear(model._fc.in_features, 200)"
   ]
  },
  {
   "cell_type": "code",
   "execution_count": 4,
   "metadata": {},
   "outputs": [],
   "source": [
    "class CustomDataset(Dataset):\n",
    "    def __init__(self, root_dir, transform=None):\n",
    "        self.root_dir = root_dir\n",
    "        self.transform = transform\n",
    "        self.classes = sorted(os.listdir(root_dir))\n",
    "        self.class_to_idx = {cls_name[:3]: idx for idx, cls_name in enumerate(self.classes)}\n",
    "        self.images = self._get_images()\n",
    "\n",
    "    def _get_images(self):\n",
    "        images = []\n",
    "        # print(self.class_to_idx)\n",
    "        for class_folder in self.classes:\n",
    "            class_path = os.path.join(self.root_dir, class_folder)\n",
    "            class_idx = self.class_to_idx[class_folder[:3]]\n",
    "            for img_name in os.listdir(class_path):\n",
    "                img_path = os.path.join(class_path, img_name)\n",
    "                images.append((img_path, class_idx))\n",
    "        return images\n",
    "\n",
    "    def __len__(self):\n",
    "        return len(self.images)\n",
    "\n",
    "    def __getitem__(self, idx):\n",
    "        img_path, class_idx = self.images[idx]\n",
    "        image = Image.open(img_path)\n",
    "        if self.transform:\n",
    "            image = self.transform(image)\n",
    "        return image, class_idx\n",
    "\n",
    "# Example usage\n",
    "root_dir = 'C:\\\\Users\\\\taran\\\\Downloads\\\\SML\\\\CUB-200-2011-dataset-main\\\\CUB-200-2011-dataset-main\\\\train'\n",
    "test_dir = 'C:\\\\Users\\\\taran\\\\Downloads\\\\SML\\\\CUB-200-2011-dataset-main\\\\CUB-200-2011-dataset-main\\\\test'\n",
    "train_dir = 'C:\\\\Users\\\\taran\\\\Downloads\\\\SML\\\\CUB-200-2011-dataset-main\\\\CUB-200-2011-dataset-main\\\\new_train'\n",
    "val_dir = 'C:\\\\Users\\\\taran\\\\Downloads\\\\SML\\\\CUB-200-2011-dataset-main\\\\CUB-200-2011-dataset-main\\\\new_val'\n",
    "trans = tt.Compose([\n",
    "    tt.ToTensor(),tt.Resize((224,224)),tt.Normalize((0.485,0.456,0.406),(0.229,0.224,0.225))   \n",
    "])\n",
    "\n",
    "trans_aug = tt.Compose([\n",
    "   tt.ToTensor(), tt.Resize((224,224)),\n",
    "   tt.RandomGrayscale(), tt.RandomHorizontalFlip(),\n",
    "   tt.RandomRotation(degrees=20), tt.Normalize((0.485,0.456,0.406),(0.229,0.224,0.225))\n",
    "])\n"
   ]
  },
  {
   "cell_type": "code",
   "execution_count": 5,
   "metadata": {},
   "outputs": [],
   "source": [
    "# train_dataset = CustomDataset(root_dir, transform=trans)\n",
    "train_ds = CustomDataset(train_dir, transform=trans_aug)\n",
    "val_ds = CustomDataset(val_dir, transform=trans)\n",
    "test_ds = CustomDataset(test_dir, transform=trans)"
   ]
  },
  {
   "cell_type": "code",
   "execution_count": 6,
   "metadata": {
    "id": "Jc5O5rMdcniz"
   },
   "outputs": [],
   "source": [
    "batch = 8"
   ]
  },
  {
   "cell_type": "code",
   "execution_count": 7,
   "metadata": {},
   "outputs": [],
   "source": [
    "train_dl = DataLoader(train_ds,batch, shuffle=True)\n",
    "val_dl = DataLoader(val_ds,batch, shuffle=True)\n",
    "test_dl = DataLoader(test_ds,batch, shuffle=True)"
   ]
  },
  {
   "cell_type": "code",
   "execution_count": 8,
   "metadata": {
    "id": "yMzGgk8nWn5m"
   },
   "outputs": [
    {
     "name": "stderr",
     "output_type": "stream",
     "text": [
      "Clipping input data to the valid range for imshow with RGB data ([0..1] for floats or [0..255] for integers).\n"
     ]
    },
    {
     "data": {
      "image/png": "[encoded data removed]",
      "text/plain": [
       "<Figure size 800x800 with 1 Axes>"
      ]
     },
     "metadata": {},
     "output_type": "display_data"
    }
   ],
   "source": [
    "from torchvision.utils import make_grid\n",
    "def show_images(images, nmax=64):\n",
    "    fig, ax = plt.subplots(figsize=(8, 8))\n",
    "    ax.set_xticks([]); ax.set_yticks([])\n",
    "    ax.imshow(make_grid(images.detach()[:nmax], nrow=8).permute(1, 2, 0))\n",
    "    \n",
    "\n",
    "def show_batch(dl, nmax=64):\n",
    "    for images, label in dl:\n",
    "        show_images(images, nmax)\n",
    "        break\n",
    "show_batch(train_dl,64)"
   ]
  },
  {
   "cell_type": "code",
   "execution_count": 9,
   "metadata": {
    "id": "D1GMCJhG3ewr"
   },
   "outputs": [],
   "source": [
    "def get_default_device():\n",
    "    if torch.cuda.is_available():\n",
    "        return torch.device('cuda')\n",
    "    else:\n",
    "        return torch.device('cpu')\n",
    "    \n",
    "def to_device(data, device):\n",
    "    if isinstance(data, (list,tuple)):\n",
    "        return [to_device(x, device) for x in data]\n",
    "    return data.to(device, non_blocking=True)\n",
    "\n",
    "class DeviceDataLoader():\n",
    "    def __init__(self, dl, device):\n",
    "        self.dl = dl\n",
    "        self.device = device\n",
    "        \n",
    "    def __iter__(self):\n",
    "        for b in self.dl: \n",
    "            yield to_device(b, self.device)\n",
    "\n",
    "    def __len__(self):\n",
    "        return len(self.dl)\n",
    "train_dl = DeviceDataLoader(train_dl,'cuda')\n",
    "val_dl = DeviceDataLoader(val_dl,'cuda')"
   ]
  },
  {
   "cell_type": "code",
   "execution_count": 10,
   "metadata": {
    "id": "rd83pxet8O-8"
   },
   "outputs": [],
   "source": [
    "def accuracy(outputs, labels):\n",
    "    _, preds = torch.max(outputs, dim=1)\n",
    "    return torch.tensor(torch.sum(preds == (labels)).item() / len(preds))\n",
    "\n",
    "\n",
    "class Model(nn.Module):\n",
    "  def __init__(self ):\n",
    "    super().__init__()\n",
    "    self.network =model\n",
    "\n",
    "  def forward(self, x):\n",
    "    return self.network(x)\n",
    "  \n",
    "  def train_step(self,batch):\n",
    "      img , label = batch\n",
    "      pred = self(img)\n",
    "      loss = F.cross_entropy(pred,label)\n",
    "      return loss\n",
    "  \n",
    "  def valid_step(self,batch):\n",
    "      img , label = batch\n",
    "      pred = self(img)\n",
    "      loss = F.cross_entropy(pred, label)  \n",
    "      acc = accuracy(pred, label)\n",
    "      return {'acc':acc , 'loss':loss.item()}\n",
    "\n",
    "  def valid_metric_cals(self,output):\n",
    "    loss = [i['loss'] for i in output]\n",
    "    acc = [i['acc'] for i in output]\n",
    "    valid_loss = np.mean(loss)\n",
    "    valid_acc = np.mean(acc)\n",
    "    return {'val_loss':valid_loss,'valid_acc':valid_acc}\n",
    "  \n",
    "  def epoch_end(self, epoch_no , result):\n",
    "    wandb.log({ 'epoch' : epoch_no+1, 'training loss': result[\"train_loss\"], 'validation loss': result[\"val_loss\"], 'accuracy': result[\"valid_acc\"]})\n",
    "    print(f'epoch :{epoch_no+1}, training loss: {result[\"train_loss\"]}, validation loss: {result[\"val_loss\"]}, accuracy: {result[\"valid_acc\"]}')"
   ]
  },
  {
   "cell_type": "code",
   "execution_count": 11,
   "metadata": {
    "id": "QK2Rv0wG8RZO"
   },
   "outputs": [],
   "source": [
    "@torch.no_grad()\n",
    "def evalu(model, val_dl):\n",
    "  model.eval()\n",
    "  temp = [ model.valid_step(j) for j in val_dl ]\n",
    "  return model.valid_metric_cals(temp)\n",
    "\n",
    "def fit(train_dl,val_dl,model,lr,optim,epochs,momentum):\n",
    "  history = []\n",
    "  optimizer =  optim(model.parameters(),lr=lr,momentum=0.9)\n",
    "  count = 0\n",
    "  for epoch in tqdm(range(epochs)):\n",
    "    train_loss = []\n",
    "    model.train()\n",
    "    for batch in train_dl:\n",
    "      optimizer.zero_grad()\n",
    "      loss = model.train_step(batch)\n",
    "      loss.backward()\n",
    "      \n",
    "      train_loss.append(loss.item())\n",
    "      optimizer.step()\n",
    "      # print(count)\n",
    "      count+=1\n",
    "    result = evalu(model,val_dl)\n",
    "    result['train_loss'] = np.mean(train_loss)\n",
    "    history.append(result)\n",
    "    model.epoch_end(epoch,result)\n",
    "  return history\n",
    "\n",
    "    "
   ]
  },
  {
   "cell_type": "code",
   "execution_count": 12,
   "metadata": {
    "id": "6rMcRGX98UgQ"
   },
   "outputs": [],
   "source": [
    "model = Model()\n",
    "model = to_device(model,'cuda')\n",
    "lr = 0.001\n",
    "momentum =.9\n",
    "optimizer= torch.optim.SGD\n",
    "epochs=30\n",
    "wandb.config = {'lr':lr,'optimuzer':'SGD','epochs':epochs,'batch_size':batch}"
   ]
  },
  {
   "cell_type": "code",
   "execution_count": 13,
   "metadata": {
    "id": "aPIut7FR8XXY"
   },
   "outputs": [
    {
     "name": "stderr",
     "output_type": "stream",
     "text": [
      "  3%|██▋                                                                             | 1/30 [03:58<1:55:15, 238.45s/it]"
     ]
    },
    {
     "name": "stdout",
     "output_type": "stream",
     "text": [
      "epoch :1, training loss: 5.216211693286896, validation loss: 5.047415151596069, accuracy: 0.15166667103767395\n"
     ]
    },
    {
     "name": "stderr",
     "output_type": "stream",
     "text": [
      "  7%|█████▎                                                                          | 2/30 [07:50<1:49:28, 234.57s/it]"
     ]
    },
    {
     "name": "stdout",
     "output_type": "stream",
     "text": [
      "epoch :2, training loss: 4.794115788936615, validation loss: 4.382891909281413, accuracy: 0.29750001430511475\n"
     ]
    },
    {
     "name": "stderr",
     "output_type": "stream",
     "text": [
      " 10%|████████                                                                        | 3/30 [11:47<1:46:05, 235.77s/it]"
     ]
    },
    {
     "name": "stdout",
     "output_type": "stream",
     "text": [
      "epoch :3, training loss: 4.053879532416661, validation loss: 3.4687671136856078, accuracy: 0.3916666805744171\n"
     ]
    },
    {
     "name": "stderr",
     "output_type": "stream",
     "text": [
      " 13%|██████████▋                                                                     | 4/30 [15:47<1:42:55, 237.51s/it]"
     ]
    },
    {
     "name": "stdout",
     "output_type": "stream",
     "text": [
      "epoch :4, training loss: 3.3544388659795126, validation loss: 2.7169581906000775, accuracy: 0.47833332419395447\n"
     ]
    },
    {
     "name": "stderr",
     "output_type": "stream",
     "text": [
      " 17%|█████████████▎                                                                  | 5/30 [19:45<1:38:59, 237.59s/it]"
     ]
    },
    {
     "name": "stdout",
     "output_type": "stream",
     "text": [
      "epoch :5, training loss: 2.7943615901470182, validation loss: 2.1344852948188784, accuracy: 0.5616666674613953\n"
     ]
    },
    {
     "name": "stderr",
     "output_type": "stream",
     "text": [
      " 20%|████████████████                                                                | 6/30 [23:43<1:35:09, 237.88s/it]"
     ]
    },
    {
     "name": "stdout",
     "output_type": "stream",
     "text": [
      "epoch :6, training loss: 2.3463845171531044, validation loss: 1.7772213478883108, accuracy: 0.6183333396911621\n"
     ]
    },
    {
     "name": "stderr",
     "output_type": "stream",
     "text": [
      " 23%|██████████████████▋                                                             | 7/30 [27:42<1:31:19, 238.24s/it]"
     ]
    },
    {
     "name": "stdout",
     "output_type": "stream",
     "text": [
      "epoch :7, training loss: 1.9800099415580432, validation loss: 1.4737216166655223, accuracy: 0.6700000166893005\n"
     ]
    },
    {
     "name": "stderr",
     "output_type": "stream",
     "text": [
      " 27%|█████████████████████▎                                                          | 8/30 [32:53<1:35:50, 261.37s/it]"
     ]
    },
    {
     "name": "stdout",
     "output_type": "stream",
     "text": [
      "epoch :8, training loss: 1.7084164561827977, validation loss: 1.2936948867638907, accuracy: 0.6991666555404663\n"
     ]
    },
    {
     "name": "stderr",
     "output_type": "stream",
     "text": [
      " 30%|████████████████████████                                                        | 9/30 [38:59<1:42:53, 293.98s/it]"
     ]
    },
    {
     "name": "stdout",
     "output_type": "stream",
     "text": [
      "epoch :9, training loss: 1.4955140379071237, validation loss: 1.1630987574656804, accuracy: 0.7091666460037231\n"
     ]
    },
    {
     "name": "stderr",
     "output_type": "stream",
     "text": [
      " 33%|██████████████████████████▎                                                    | 10/30 [44:59<1:44:49, 314.48s/it]"
     ]
    },
    {
     "name": "stdout",
     "output_type": "stream",
     "text": [
      "epoch :10, training loss: 1.333829359660546, validation loss: 1.0716959367195764, accuracy: 0.7133333086967468\n"
     ]
    },
    {
     "name": "stderr",
     "output_type": "stream",
     "text": [
      " 37%|████████████████████████████▉                                                  | 11/30 [50:59<1:43:58, 328.35s/it]"
     ]
    },
    {
     "name": "stdout",
     "output_type": "stream",
     "text": [
      "epoch :11, training loss: 1.1823301617304485, validation loss: 1.0012912813822428, accuracy: 0.7166666388511658\n"
     ]
    },
    {
     "name": "stderr",
     "output_type": "stream",
     "text": [
      " 40%|███████████████████████████████▌                                               | 12/30 [56:58<1:41:20, 337.78s/it]"
     ]
    },
    {
     "name": "stdout",
     "output_type": "stream",
     "text": [
      "epoch :12, training loss: 1.0573148266474406, validation loss: 0.963169214228789, accuracy: 0.7350000143051147\n"
     ]
    },
    {
     "name": "stderr",
     "output_type": "stream",
     "text": [
      " 43%|█████████████████████████████████▎                                           | 13/30 [1:03:00<1:37:43, 344.92s/it]"
     ]
    },
    {
     "name": "stdout",
     "output_type": "stream",
     "text": [
      "epoch :13, training loss: 0.9692638572305441, validation loss: 0.9211376968026161, accuracy: 0.7458333373069763\n"
     ]
    },
    {
     "name": "stderr",
     "output_type": "stream",
     "text": [
      " 47%|███████████████████████████████████▉                                         | 14/30 [1:09:07<1:33:45, 351.62s/it]"
     ]
    },
    {
     "name": "stdout",
     "output_type": "stream",
     "text": [
      "epoch :14, training loss: 0.8630349986255169, validation loss: 0.8916372367242972, accuracy: 0.753333330154419\n"
     ]
    },
    {
     "name": "stderr",
     "output_type": "stream",
     "text": [
      " 50%|██████████████████████████████████████▌                                      | 15/30 [1:15:14<1:29:03, 356.26s/it]"
     ]
    },
    {
     "name": "stdout",
     "output_type": "stream",
     "text": [
      "epoch :15, training loss: 0.7883684230347474, validation loss: 0.8662037744124731, accuracy: 0.7599999904632568\n"
     ]
    },
    {
     "name": "stderr",
     "output_type": "stream",
     "text": [
      " 53%|█████████████████████████████████████████                                    | 16/30 [1:21:18<1:23:40, 358.62s/it]"
     ]
    },
    {
     "name": "stdout",
     "output_type": "stream",
     "text": [
      "epoch :16, training loss: 0.7144490172713995, validation loss: 0.8613607964416345, accuracy: 0.7558333277702332\n"
     ]
    },
    {
     "name": "stderr",
     "output_type": "stream",
     "text": [
      " 57%|███████████████████████████████████████████▋                                 | 17/30 [1:27:21<1:18:00, 360.04s/it]"
     ]
    },
    {
     "name": "stdout",
     "output_type": "stream",
     "text": [
      "epoch :17, training loss: 0.6496910167237123, validation loss: 0.8501066364347935, accuracy: 0.7549999952316284\n"
     ]
    },
    {
     "name": "stderr",
     "output_type": "stream",
     "text": [
      " 60%|██████████████████████████████████████████████▏                              | 18/30 [1:33:24<1:12:09, 360.81s/it]"
     ]
    },
    {
     "name": "stdout",
     "output_type": "stream",
     "text": [
      "epoch :18, training loss: 0.6142476468657454, validation loss: 0.8400594951212406, accuracy: 0.7583333253860474\n"
     ]
    },
    {
     "name": "stderr",
     "output_type": "stream",
     "text": [
      " 63%|████████████████████████████████████████████████▊                            | 19/30 [1:39:23<1:06:02, 360.19s/it]"
     ]
    },
    {
     "name": "stdout",
     "output_type": "stream",
     "text": [
      "epoch :19, training loss: 0.560962139852345, validation loss: 0.8449488409856956, accuracy: 0.7616666555404663\n"
     ]
    },
    {
     "name": "stderr",
     "output_type": "stream",
     "text": [
      " 67%|████████████████████████████████████████████████████▋                          | 20/30 [1:45:20<59:53, 359.34s/it]"
     ]
    },
    {
     "name": "stdout",
     "output_type": "stream",
     "text": [
      "epoch :20, training loss: 0.5122997541477283, validation loss: 0.8317210656652848, accuracy: 0.7666666507720947\n"
     ]
    },
    {
     "name": "stderr",
     "output_type": "stream",
     "text": [
      " 70%|███████████████████████████████████████████████████████▎                       | 21/30 [1:51:22<54:02, 360.24s/it]"
     ]
    },
    {
     "name": "stdout",
     "output_type": "stream",
     "text": [
      "epoch :21, training loss: 0.4600282948712508, validation loss: 0.8445310166974862, accuracy: 0.7591666579246521\n"
     ]
    },
    {
     "name": "stderr",
     "output_type": "stream",
     "text": [
      " 73%|█████████████████████████████████████████████████████████▉                     | 22/30 [1:57:26<48:09, 361.17s/it]"
     ]
    },
    {
     "name": "stdout",
     "output_type": "stream",
     "text": [
      "epoch :22, training loss: 0.40378362633287906, validation loss: 0.8592427421361208, accuracy: 0.753333330154419\n"
     ]
    },
    {
     "name": "stderr",
     "output_type": "stream",
     "text": [
      " 77%|████████████████████████████████████████████████████████████▌                  | 23/30 [2:03:28<42:09, 361.42s/it]"
     ]
    },
    {
     "name": "stdout",
     "output_type": "stream",
     "text": [
      "epoch :23, training loss: 0.39656670464823646, validation loss: 0.837279474431028, accuracy: 0.7608333230018616\n"
     ]
    },
    {
     "name": "stderr",
     "output_type": "stream",
     "text": [
      " 80%|███████████████████████████████████████████████████████████████▏               | 24/30 [2:09:25<36:01, 360.22s/it]"
     ]
    },
    {
     "name": "stdout",
     "output_type": "stream",
     "text": [
      "epoch :24, training loss: 0.3679612272667388, validation loss: 0.8538352586577336, accuracy: 0.762499988079071\n"
     ]
    },
    {
     "name": "stderr",
     "output_type": "stream",
     "text": [
      " 83%|█████████████████████████████████████████████████████████████████▊             | 25/30 [2:15:24<29:59, 359.84s/it]"
     ]
    },
    {
     "name": "stdout",
     "output_type": "stream",
     "text": [
      "epoch :25, training loss: 0.35149346170015633, validation loss: 0.8684245152026415, accuracy: 0.7633333206176758\n"
     ]
    },
    {
     "name": "stderr",
     "output_type": "stream",
     "text": [
      " 87%|████████████████████████████████████████████████████████████████████▍          | 26/30 [2:21:22<23:57, 359.28s/it]"
     ]
    },
    {
     "name": "stdout",
     "output_type": "stream",
     "text": [
      "epoch :26, training loss: 0.34176978893888493, validation loss: 0.8674000863234202, accuracy: 0.7541666626930237\n"
     ]
    },
    {
     "name": "stderr",
     "output_type": "stream",
     "text": [
      " 90%|███████████████████████████████████████████████████████████████████████        | 27/30 [2:27:22<17:58, 359.38s/it]"
     ]
    },
    {
     "name": "stdout",
     "output_type": "stream",
     "text": [
      "epoch :27, training loss: 0.29644594628363846, validation loss: 0.8518504780034224, accuracy: 0.762499988079071\n"
     ]
    },
    {
     "name": "stderr",
     "output_type": "stream",
     "text": [
      " 93%|█████████████████████████████████████████████████████████████████████████▋     | 28/30 [2:33:19<11:57, 358.68s/it]"
     ]
    },
    {
     "name": "stdout",
     "output_type": "stream",
     "text": [
      "epoch :28, training loss: 0.28376101521930347, validation loss: 0.8632128458966811, accuracy: 0.7566666603088379\n"
     ]
    },
    {
     "name": "stderr",
     "output_type": "stream",
     "text": [
      " 97%|████████████████████████████████████████████████████████████████████████████▎  | 29/30 [2:39:18<05:58, 358.70s/it]"
     ]
    },
    {
     "name": "stdout",
     "output_type": "stream",
     "text": [
      "epoch :29, training loss: 0.268086694025745, validation loss: 0.8861165897424023, accuracy: 0.7608333230018616\n"
     ]
    },
    {
     "name": "stderr",
     "output_type": "stream",
     "text": [
      "100%|███████████████████████████████████████████████████████████████████████████████| 30/30 [2:45:22<00:00, 330.74s/it]"
     ]
    },
    {
     "name": "stdout",
     "output_type": "stream",
     "text": [
      "epoch :30, training loss: 0.2481161857303232, validation loss: 0.885892445469896, accuracy: 0.7591666579246521\n"
     ]
    },
    {
     "name": "stderr",
     "output_type": "stream",
     "text": [
      "\n"
     ]
    }
   ],
   "source": [
    "# wandb.watch(model)\n",
    "history=fit(train_dl,val_dl,model,lr,optimizer,epochs,momentum)"
   ]
  },
  {
   "cell_type": "code",
   "execution_count": 14,
   "metadata": {
    "id": "3yoCgtJW1UD0"
   },
   "outputs": [],
   "source": [
    "torch.save(model.state_dict(),\"efficientNet.pth\")"
   ]
  },
  {
   "cell_type": "code",
   "execution_count": 15,
   "metadata": {
    "id": "zbX2E6fJ8csK"
   },
   "outputs": [
    {
     "name": "stdout",
     "output_type": "stream",
     "text": [
      "('f1 Score: 0.7685755922980648', 'Accuracy: 0.7668277528477736', 'precision Score: 0.7765056471865893', 'recall Score: 0.7697263598485093')\n"
     ]
    }
   ],
   "source": [
    "from sklearn.metrics import f1_score,accuracy_score,recall_score,precision_score\n",
    "\n",
    "test_dl = DeviceDataLoader(test_dl,'cuda')\n",
    "@torch.no_grad()\n",
    "def test_accuracy_f1(test_dl):\n",
    "  model.eval()\n",
    "  acc=0\n",
    "  f1=0\n",
    "  list_label = []\n",
    "  list_pred = []\n",
    "  \n",
    "\n",
    "  for num,(img,label) in enumerate(test_dl):\n",
    "    outputs = model(img)\n",
    "    batchs_report = []\n",
    "    _, pred = torch.max(outputs, dim=1)\n",
    "    predx,labelx = (pred.cpu().clone().tolist(),label.cpu().clone().tolist())\n",
    "    \n",
    "    list_label+=labelx\n",
    "    list_pred+=predx\n",
    "  f1 =f1_score(list_label,list_pred,average='macro')\n",
    "  precision =precision_score(list_label,list_pred,average='macro')\n",
    "  recall =recall_score(list_label,list_pred,average='macro')\n",
    "\n",
    "  acc =accuracy_score(list_label,list_pred)\n",
    "  wandb.log({\"conf_mat\" : wandb.plot.confusion_matrix(probs=None,\n",
    "                       y_true=list_label, preds=list_pred,\n",
    "                     )})\n",
    "  wandb.log({'f1_score':f1,'accuracy_score':acc,'precision Score':precision,'recall Score':recall})\n",
    "  return f'f1 Score: {f1}', f'Accuracy: {acc}',f'precision Score: {precision}',f'recall Score: {recall}'\n",
    "score_rate = test_accuracy_f1(test_dl)\n",
    "print(score_rate)\n",
    "\n"
   ]
  },
  {
   "cell_type": "code",
   "execution_count": 16,
   "metadata": {
    "id": "mgb5OAS-8faX"
   },
   "outputs": [
    {
     "data": {
      "text/html": [
       "<style>\n",
       "    table.wandb td:nth-child(1) { padding: 0 10px; text-align: left ; width: auto;} td:nth-child(2) {text-align: left ; width: 100%}\n",
       "    .wandb-row { display: flex; flex-direction: row; flex-wrap: wrap; justify-content: flex-start; width: 100% }\n",
       "    .wandb-col { display: flex; flex-direction: column; flex-basis: 100%; flex: 1; padding: 10px; }\n",
       "    </style>\n",
       "<div class=\"wandb-row\"><div class=\"wandb-col\"><h3>Run history:</h3><br/><table class=\"wandb\"><tr><td>accuracy</td><td>▁▃▄▅▆▆▇▇▇▇▇███████████████████</td></tr><tr><td>accuracy_score</td><td>▁</td></tr><tr><td>epoch</td><td>▁▁▁▂▂▂▂▃▃▃▃▄▄▄▄▅▅▅▅▆▆▆▆▇▇▇▇███</td></tr><tr><td>f1_score</td><td>▁</td></tr><tr><td>precision Score</td><td>▁</td></tr><tr><td>recall Score</td><td>▁</td></tr><tr><td>training loss</td><td>█▇▆▅▅▄▃▃▃▃▂▂▂▂▂▂▂▂▁▁▁▁▁▁▁▁▁▁▁▁</td></tr><tr><td>validation loss</td><td>█▇▅▄▃▃▂▂▂▁▁▁▁▁▁▁▁▁▁▁▁▁▁▁▁▁▁▁▁▁</td></tr></table><br/></div><div class=\"wandb-col\"><h3>Run summary:</h3><br/><table class=\"wandb\"><tr><td>accuracy</td><td>0.75917</td></tr><tr><td>accuracy_score</td><td>0.76683</td></tr><tr><td>epoch</td><td>30</td></tr><tr><td>f1_score</td><td>0.76858</td></tr><tr><td>precision Score</td><td>0.77651</td></tr><tr><td>recall Score</td><td>0.76973</td></tr><tr><td>training loss</td><td>0.24812</td></tr><tr><td>validation loss</td><td>0.88589</td></tr></table><br/></div></div>"
      ],
      "text/plain": [
       "<IPython.core.display.HTML object>"
      ]
     },
     "metadata": {},
     "output_type": "display_data"
    },
    {
     "data": {
      "text/html": [
       " View run <strong style=\"color:#cdcd00\">clear-flower-11</strong> at: <a href='https://wandb.ai/iiit-d/SML/runs/asanktrk' target=\"_blank\">https://wandb.ai/iiit-d/SML/runs/asanktrk</a><br/> View project at: <a href='https://wandb.ai/iiit-d/SML' target=\"_blank\">https://wandb.ai/iiit-d/SML</a><br/>Synced 6 W&B file(s), 1 media file(s), 1 artifact file(s) and 0 other file(s)"
      ],
      "text/plain": [
       "<IPython.core.display.HTML object>"
      ]
     },
     "metadata": {},
     "output_type": "display_data"
    },
    {
     "data": {
      "text/html": [
       "Find logs at: <code>.\\wandb\\run-20240415_152424-asanktrk\\logs</code>"
      ],
      "text/plain": [
       "<IPython.core.display.HTML object>"
      ]
     },
     "metadata": {},
     "output_type": "display_data"
    }
   ],
   "source": [
    "wandb.finish()"
   ]
  },
  {
   "cell_type": "code",
   "execution_count": null,
   "metadata": {},
   "outputs": [],
   "source": []
  }
 ],
 "metadata": {
  "accelerator": "GPU",
  "colab": {
   "provenance": []
  },
  "gpuClass": "standard",
  "kernelspec": {
   "display_name": "Python 3 (ipykernel)",
   "language": "python",
   "name": "python3"
  },
  "language_info": {
   "codemirror_mode": {
    "name": "ipython",
    "version": 3
   },
   "file_extension": ".py",
   "mimetype": "text/x-python",
   "name": "python",
   "nbconvert_exporter": "python",
   "pygments_lexer": "ipython3",
   "version": "3.10.14"
  }
 },
 "nbformat": 4,
 "nbformat_minor": 4
}
